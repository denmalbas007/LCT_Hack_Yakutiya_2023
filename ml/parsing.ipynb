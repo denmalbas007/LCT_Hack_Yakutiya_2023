{
 "cells": [
  {
   "cell_type": "code",
   "execution_count": 1,
   "id": "4401b438-06fe-4991-99e3-814cb02d5ec7",
   "metadata": {},
   "outputs": [],
   "source": [
    "import sys\n",
    "\n",
    "sys.path.insert(0, \"/home/leffff/PycharmProjects/LCT_Hack_Yakutiya_2023/venv/lib/python3.10/site-packages\")"
   ]
  },
  {
   "cell_type": "code",
   "execution_count": 2,
   "id": "d5ed588e-8c04-4fd8-86a1-b2078d8a603b",
   "metadata": {},
   "outputs": [
    {
     "name": "stderr",
     "output_type": "stream",
     "text": [
      "100%|████████████████████████████████████████████████████████████████████████████████████████████████████████████████████████████████████████████████████████████████████████████████████████████████████████████████████████████████████████████████████████████████| 2193/2193 [08:08<00:00,  4.49it/s]\n"
     ]
    }
   ],
   "source": [
    "import pandas as pd\n",
    "from tqdm import tqdm\n",
    "from bs4 import BeautifulSoup\n",
    "import requests\n",
    "\n",
    "df = pd.DataFrame(columns=['url'])\n",
    "\n",
    "for i in tqdm(range(22457, 24650)):    \n",
    "    url = 'https://www.xn----7sbab7amcgekn3b5j.xn--p1ai/administratsiya-mo/postanovleniya-i-rasporyazheniya-glavy-mr/'+str(i)+'/'\n",
    "    page = requests.get(url)    \n",
    "    soup = BeautifulSoup(page.text, \"html.parser\")\n",
    "    try:        \n",
    "        allNews = soup.findAll('div', class_='news-detail')\n",
    "        page_url = 'https://www.алмазный-край.рф/' + (allNews[0].find('a')['href'])        \n",
    "    \n",
    "        df = pd.concat([df, pd.DataFrame([page_url], columns=['url'])], ignore_index=True)\n",
    "    except:\n",
    "        pass"
   ]
  },
  {
   "cell_type": "code",
   "execution_count": 3,
   "id": "991c5a7f-0d4e-4af4-8391-230ce5258246",
   "metadata": {},
   "outputs": [],
   "source": [
    "from tika import parser # pip install tika\n",
    "def extract_text_from_pdf(path):\n",
    "    raw = parser.from_file(path)\n",
    "    return raw['content']\n"
   ]
  },
  {
   "cell_type": "code",
   "execution_count": 4,
   "id": "f951be4f-e1cb-4444-83d9-b2cca8cc27f2",
   "metadata": {},
   "outputs": [],
   "source": [
    "import requests\n",
    "def download_pdf(url, save_path):\n",
    "    \n",
    "    r = requests.get(url, stream=True)\n",
    "    \n",
    "    with open(save_path, 'wb') as f:\n",
    "        f.write(r.content)"
   ]
  },
  {
   "cell_type": "code",
   "execution_count": 12,
   "id": "c25c0004-17b2-4c5d-8999-3f30f4ced0f5",
   "metadata": {},
   "outputs": [],
   "source": [
    "import os\n",
    "\n",
    "\n",
    "def pdfs2csv(df):\n",
    "    texts = []\n",
    "    urls = []\n",
    "    \n",
    "    for i in tqdm(range(df.shape[0])):\n",
    "        url = df['url'][i]\n",
    "        #print(url)\n",
    "        try:\n",
    "            download_pdf(url, str(i)+'.pdf')\n",
    "            text = extract_text_from_pdf(str(i) + '.pdf')\n",
    "            text_list = text.split()\n",
    "            text = ' '.join(text_list).strip()\n",
    "            left = text.index(\"ПОСТАНОВЛЕНИЕ\")\n",
    "            text = text[left + 14:]\n",
    "            # text = \"\".join([char for char in text if char.isalpha() or char == \" \"])\n",
    "            # print(text)\n",
    "    \n",
    "            texts.append(text)\n",
    "            urls.append(url)\n",
    "        \n",
    "        # df = pd.concat([df, pd.DataFrame([text], columns=['text'])], ignore_index=True)\n",
    "        except Exception:\n",
    "        # df = pd.concat([df, pd.DataFrame(['error'], columns=['text'])], ignore_index=True)\n",
    "            print('error')\n",
    "            texts.append('error')\n",
    "            urls.append(url)\n",
    "        \n",
    "        os.remove(str(i)+'.pdf')\n",
    "\n",
    "        \n",
    "    out = pd.DataFrame({\"text\": texts, \"url\": urls})\n",
    "    \n",
    "    return out"
   ]
  },
  {
   "cell_type": "code",
   "execution_count": 13,
   "id": "e6abf4df-7bdf-464c-bb33-ad3a86bb0f8a",
   "metadata": {},
   "outputs": [],
   "source": [
    "import pandas as pd"
   ]
  },
  {
   "cell_type": "code",
   "execution_count": 14,
   "id": "0cc06543-e40a-48ed-b5be-e37d92ac8691",
   "metadata": {},
   "outputs": [],
   "source": [
    "# df = pd.read_csv('yakutiya_lct_data_urls.csv')"
   ]
  },
  {
   "cell_type": "code",
   "execution_count": 15,
   "id": "882afda7-7620-4e18-9156-da8e0034ae28",
   "metadata": {
    "scrolled": true
   },
   "outputs": [
    {
     "name": "stderr",
     "output_type": "stream",
     "text": [
      "  2%|████▋                                                                                                                                                                                                                                                               | 9/503 [00:01<01:27,  5.62it/s]"
     ]
    },
    {
     "name": "stdout",
     "output_type": "stream",
     "text": [
      "error\n"
     ]
    },
    {
     "name": "stderr",
     "output_type": "stream",
     "text": [
      "  2%|██████▏                                                                                                                                                                                                                                                            | 12/503 [00:01<01:23,  5.91it/s]"
     ]
    },
    {
     "name": "stdout",
     "output_type": "stream",
     "text": [
      "error\n",
      "error\n"
     ]
    },
    {
     "name": "stderr",
     "output_type": "stream",
     "text": [
      "  5%|█████████████▍                                                                                                                                                                                                                                                     | 26/503 [00:03<00:54,  8.79it/s]"
     ]
    },
    {
     "name": "stdout",
     "output_type": "stream",
     "text": [
      "error\n",
      "error\n"
     ]
    },
    {
     "name": "stderr",
     "output_type": "stream",
     "text": [
      "  6%|██████████████▍                                                                                                                                                                                                                                                    | 28/503 [00:03<00:57,  8.25it/s]"
     ]
    },
    {
     "name": "stdout",
     "output_type": "stream",
     "text": [
      "error\n",
      "error\n"
     ]
    },
    {
     "name": "stderr",
     "output_type": "stream",
     "text": [
      "  8%|████████████████████▌                                                                                                                                                                                                                                              | 40/503 [00:05<01:21,  5.65it/s]"
     ]
    },
    {
     "name": "stdout",
     "output_type": "stream",
     "text": [
      "error\n"
     ]
    },
    {
     "name": "stderr",
     "output_type": "stream",
     "text": [
      " 11%|███████████████████████████▎                                                                                                                                                                                                                                       | 53/503 [00:07<00:52,  8.49it/s]"
     ]
    },
    {
     "name": "stdout",
     "output_type": "stream",
     "text": [
      "error\n",
      "error\n"
     ]
    },
    {
     "name": "stderr",
     "output_type": "stream",
     "text": [
      " 17%|████████████████████████████████████████████▊                                                                                                                                                                                                                      | 87/503 [00:12<01:19,  5.24it/s]"
     ]
    },
    {
     "name": "stdout",
     "output_type": "stream",
     "text": [
      "error\n"
     ]
    },
    {
     "name": "stderr",
     "output_type": "stream",
     "text": [
      " 21%|█████████████████████████████████████████████████████▊                                                                                                                                                                                                            | 105/503 [00:16<01:17,  5.13it/s]"
     ]
    },
    {
     "name": "stdout",
     "output_type": "stream",
     "text": [
      "error\n"
     ]
    },
    {
     "name": "stderr",
     "output_type": "stream",
     "text": [
      " 22%|█████████████████████████████████████████████████████████▉                                                                                                                                                                                                        | 113/503 [00:17<01:05,  5.99it/s]"
     ]
    },
    {
     "name": "stdout",
     "output_type": "stream",
     "text": [
      "error\n",
      "error\n"
     ]
    },
    {
     "name": "stderr",
     "output_type": "stream",
     "text": [
      " 27%|██████████████████████████████████████████████████████████████████████▎                                                                                                                                                                                           | 137/503 [00:20<00:29, 12.61it/s]"
     ]
    },
    {
     "name": "stdout",
     "output_type": "stream",
     "text": [
      "error\n",
      "error\n",
      "error\n",
      "error\n"
     ]
    },
    {
     "name": "stderr",
     "output_type": "stream",
     "text": [
      " 28%|████████████████████████████████████████████████████████████████████████▎                                                                                                                                                                                         | 141/503 [00:20<00:23, 15.17it/s]"
     ]
    },
    {
     "name": "stdout",
     "output_type": "stream",
     "text": [
      "error\n",
      "error\n",
      "error\n",
      "error\n"
     ]
    },
    {
     "name": "stderr",
     "output_type": "stream",
     "text": [
      " 29%|██████████████████████████████████████████████████████████████████████████▎                                                                                                                                                                                       | 145/503 [00:21<00:22, 15.69it/s]"
     ]
    },
    {
     "name": "stdout",
     "output_type": "stream",
     "text": [
      "error\n",
      "error\n",
      "error\n"
     ]
    },
    {
     "name": "stderr",
     "output_type": "stream",
     "text": [
      " 30%|████████████████████████████████████████████████████████████████████████████▍                                                                                                                                                                                     | 149/503 [00:21<00:41,  8.63it/s]"
     ]
    },
    {
     "name": "stdout",
     "output_type": "stream",
     "text": [
      "error\n"
     ]
    },
    {
     "name": "stderr",
     "output_type": "stream",
     "text": [
      " 37%|██████████████████████████████████████████████████████████████████████████████████████████████▍                                                                                                                                                                   | 184/503 [00:28<00:52,  6.13it/s]"
     ]
    },
    {
     "name": "stdout",
     "output_type": "stream",
     "text": [
      "error\n",
      "error\n"
     ]
    },
    {
     "name": "stderr",
     "output_type": "stream",
     "text": [
      " 37%|████████████████████████████████████████████████████████████████████████████████████████████████▍                                                                                                                                                                 | 188/503 [00:29<00:54,  5.82it/s]"
     ]
    },
    {
     "name": "stdout",
     "output_type": "stream",
     "text": [
      "error\n",
      "error\n"
     ]
    },
    {
     "name": "stderr",
     "output_type": "stream",
     "text": [
      " 44%|████████████████████████████████████████████████████████████████████████████████████████████████████████████████▎                                                                                                                                                 | 219/503 [00:35<00:43,  6.56it/s]"
     ]
    },
    {
     "name": "stdout",
     "output_type": "stream",
     "text": [
      "error\n"
     ]
    },
    {
     "name": "stderr",
     "output_type": "stream",
     "text": [
      " 44%|█████████████████████████████████████████████████████████████████████████████████████████████████████████████████▊                                                                                                                                                | 222/503 [00:35<00:37,  7.47it/s]"
     ]
    },
    {
     "name": "stdout",
     "output_type": "stream",
     "text": [
      "error\n"
     ]
    },
    {
     "name": "stderr",
     "output_type": "stream",
     "text": [
      " 45%|██████████████████████████████████████████████████████████████████████████████████████████████████████████████████▉                                                                                                                                               | 224/503 [00:36<00:37,  7.40it/s]"
     ]
    },
    {
     "name": "stdout",
     "output_type": "stream",
     "text": [
      "error\n"
     ]
    },
    {
     "name": "stderr",
     "output_type": "stream",
     "text": [
      " 45%|████████████████████████████████████████████████████████████████████████████████████████████████████████████████████▉                                                                                                                                             | 228/503 [00:36<00:33,  8.25it/s]"
     ]
    },
    {
     "name": "stdout",
     "output_type": "stream",
     "text": [
      "error\n"
     ]
    },
    {
     "name": "stderr",
     "output_type": "stream",
     "text": [
      " 53%|████████████████████████████████████████████████████████████████████████████████████████████████████████████████████████████████████████▉                                                                                                                         | 267/503 [00:42<00:35,  6.73it/s]"
     ]
    },
    {
     "name": "stdout",
     "output_type": "stream",
     "text": [
      "error\n"
     ]
    },
    {
     "name": "stderr",
     "output_type": "stream",
     "text": [
      " 53%|█████████████████████████████████████████████████████████████████████████████████████████████████████████████████████████████████████████▉                                                                                                                        | 269/503 [00:42<00:36,  6.42it/s]"
     ]
    },
    {
     "name": "stdout",
     "output_type": "stream",
     "text": [
      "error\n",
      "error\n"
     ]
    },
    {
     "name": "stderr",
     "output_type": "stream",
     "text": [
      " 54%|███████████████████████████████████████████████████████████████████████████████████████████████████████████████████████████████████████████                                                                                                                       | 271/503 [00:43<00:30,  7.54it/s]"
     ]
    },
    {
     "name": "stdout",
     "output_type": "stream",
     "text": [
      "error\n",
      "error\n"
     ]
    },
    {
     "name": "stderr",
     "output_type": "stream",
     "text": [
      " 54%|███████████████████████████████████████████████████████████████████████████████████████████████████████████████████████████████████████████▌                                                                                                                      | 272/503 [00:44<01:20,  2.88it/s]"
     ]
    },
    {
     "name": "stdout",
     "output_type": "stream",
     "text": [
      "error\n"
     ]
    },
    {
     "name": "stderr",
     "output_type": "stream",
     "text": [
      " 54%|████████████████████████████████████████████████████████████████████████████████████████████████████████████████████████████████████████████                                                                                                                      | 273/503 [00:44<01:51,  2.06it/s]"
     ]
    },
    {
     "name": "stdout",
     "output_type": "stream",
     "text": [
      "error\n"
     ]
    },
    {
     "name": "stderr",
     "output_type": "stream",
     "text": [
      " 61%|█████████████████████████████████████████████████████████████████████████████████████████████████████████████████████████████████████████████████████████████▍                                                                                                    | 307/503 [00:50<00:18, 10.32it/s]"
     ]
    },
    {
     "name": "stdout",
     "output_type": "stream",
     "text": [
      "error\n"
     ]
    },
    {
     "name": "stderr",
     "output_type": "stream",
     "text": [
      " 67%|█████████████████████████████████████████████████████████████████████████████████████████████████████████████████████████████████████████████████████████████████████████████▎                                                                                    | 338/503 [00:59<00:19,  8.53it/s]"
     ]
    },
    {
     "name": "stdout",
     "output_type": "stream",
     "text": [
      "error\n"
     ]
    },
    {
     "name": "stderr",
     "output_type": "stream",
     "text": [
      " 71%|████████████████████████████████████████████████████████████████████████████████████████████████████████████████████████████████████████████████████████████████████████████████████████▏                                                                         | 359/503 [01:01<00:12, 11.12it/s]"
     ]
    },
    {
     "name": "stdout",
     "output_type": "stream",
     "text": [
      "error\n"
     ]
    },
    {
     "name": "stderr",
     "output_type": "stream",
     "text": [
      " 81%|████████████████████████████████████████████████████████████████████████████████████████████████████████████████████████████████████████████████████████████████████████████████████████████████████████████████▏                                                 | 406/503 [01:07<00:09, 10.07it/s]"
     ]
    },
    {
     "name": "stdout",
     "output_type": "stream",
     "text": [
      "error\n"
     ]
    },
    {
     "name": "stderr",
     "output_type": "stream",
     "text": [
      " 85%|██████████████████████████████████████████████████████████████████████████████████████████████████████████████████████████████████████████████████████████████████████████████████████████████████████████████████████████▌                                       | 426/503 [01:10<00:07,  9.79it/s]"
     ]
    },
    {
     "name": "stdout",
     "output_type": "stream",
     "text": [
      "error\n"
     ]
    },
    {
     "name": "stderr",
     "output_type": "stream",
     "text": [
      "100%|██████████████████████████████████████████████████████████████████████████████████████████████████████████████████████████████████████████████████████████████████████████████████████████████████████████████████████████████████████████████████████████████████| 503/503 [01:23<00:00,  5.99it/s]\n"
     ]
    },
    {
     "data": {
      "text/html": [
       "<div>\n",
       "<style scoped>\n",
       "    .dataframe tbody tr th:only-of-type {\n",
       "        vertical-align: middle;\n",
       "    }\n",
       "\n",
       "    .dataframe tbody tr th {\n",
       "        vertical-align: top;\n",
       "    }\n",
       "\n",
       "    .dataframe thead th {\n",
       "        text-align: right;\n",
       "    }\n",
       "</style>\n",
       "<table border=\"1\" class=\"dataframe\">\n",
       "  <thead>\n",
       "    <tr style=\"text-align: right;\">\n",
       "      <th></th>\n",
       "      <th>text</th>\n",
       "      <th>url</th>\n",
       "    </tr>\n",
       "  </thead>\n",
       "  <tbody>\n",
       "    <tr>\n",
       "      <th>0</th>\n",
       "      <td>от«09» (И 2029г. №1 О внесении измененийв пост...</td>\n",
       "      <td>https://www.алмазный-край.рф//upload/files/bnr...</td>\n",
       "    </tr>\n",
       "    <tr>\n",
       "      <th>1</th>\n",
       "      <td>от «30 » декабря 2022 г. № Об утверждении Поря...</td>\n",
       "      <td>https://www.алмазный-край.рф//upload/files/bnr...</td>\n",
       "    </tr>\n",
       "    <tr>\n",
       "      <th>2</th>\n",
       "      <td>от«. 90 &gt; [2022 т. № О внесении измененийв пос...</td>\n",
       "      <td>https://www.алмазный-край.рф//upload/files/bnr...</td>\n",
       "    </tr>\n",
       "    <tr>\n",
       "      <th>3</th>\n",
       "      <td>от«30» 06 утверждении—организационного комитет...</td>\n",
       "      <td>https://www.алмазный-край.рф//upload/files/bnr...</td>\n",
       "    </tr>\n",
       "    <tr>\n",
       "      <th>4</th>\n",
       "      <td>от«.30» 12 2022. №2031 О внесении изменений в ...</td>\n",
       "      <td>https://www.алмазный-край.рф//upload/files/bnr...</td>\n",
       "    </tr>\n",
       "    <tr>\n",
       "      <th>...</th>\n",
       "      <td>...</td>\n",
       "      <td>...</td>\n",
       "    </tr>\n",
       "    <tr>\n",
       "      <th>498</th>\n",
       "      <td>г. Мирный от «(04» 1 р 2025 г. № 1774 О внесен...</td>\n",
       "      <td>https://www.алмазный-край.рф//for%20export/177...</td>\n",
       "    </tr>\n",
       "    <tr>\n",
       "      <th>499</th>\n",
       "      <td>от «04»[22023 г. № [177г. Мирный О внесении из...</td>\n",
       "      <td>https://www.алмазный-край.рф//for%20export/177...</td>\n",
       "    </tr>\n",
       "    <tr>\n",
       "      <th>500</th>\n",
       "      <td>г. Мирный от «(4» (2 2023 г. № 18 02 О внесени...</td>\n",
       "      <td>https://www.алмазный-край.рф//for%20export/180...</td>\n",
       "    </tr>\n",
       "    <tr>\n",
       "      <th>501</th>\n",
       "      <td>г. Мирный от ‹ф 12 2023 г. № 40 О внесении изм...</td>\n",
       "      <td>https://www.алмазный-край.рф//for%20export/180...</td>\n",
       "    </tr>\n",
       "    <tr>\n",
       "      <th>502</th>\n",
       "      <td>г. Мирный ОТ « 04 » [2 2023 г. № (1 [7 Об утве...</td>\n",
       "      <td>https://www.алмазный-край.рф//for%20export/181...</td>\n",
       "    </tr>\n",
       "  </tbody>\n",
       "</table>\n",
       "<p>503 rows × 2 columns</p>\n",
       "</div>"
      ],
      "text/plain": [
       "                                                  text  \\\n",
       "0    от«09» (И 2029г. №1 О внесении измененийв пост...   \n",
       "1    от «30 » декабря 2022 г. № Об утверждении Поря...   \n",
       "2    от«. 90 > [2022 т. № О внесении измененийв пос...   \n",
       "3    от«30» 06 утверждении—организационного комитет...   \n",
       "4    от«.30» 12 2022. №2031 О внесении изменений в ...   \n",
       "..                                                 ...   \n",
       "498  г. Мирный от «(04» 1 р 2025 г. № 1774 О внесен...   \n",
       "499  от «04»[22023 г. № [177г. Мирный О внесении из...   \n",
       "500  г. Мирный от «(4» (2 2023 г. № 18 02 О внесени...   \n",
       "501  г. Мирный от ‹ф 12 2023 г. № 40 О внесении изм...   \n",
       "502  г. Мирный ОТ « 04 » [2 2023 г. № (1 [7 Об утве...   \n",
       "\n",
       "                                                   url  \n",
       "0    https://www.алмазный-край.рф//upload/files/bnr...  \n",
       "1    https://www.алмазный-край.рф//upload/files/bnr...  \n",
       "2    https://www.алмазный-край.рф//upload/files/bnr...  \n",
       "3    https://www.алмазный-край.рф//upload/files/bnr...  \n",
       "4    https://www.алмазный-край.рф//upload/files/bnr...  \n",
       "..                                                 ...  \n",
       "498  https://www.алмазный-край.рф//for%20export/177...  \n",
       "499  https://www.алмазный-край.рф//for%20export/177...  \n",
       "500  https://www.алмазный-край.рф//for%20export/180...  \n",
       "501  https://www.алмазный-край.рф//for%20export/180...  \n",
       "502  https://www.алмазный-край.рф//for%20export/181...  \n",
       "\n",
       "[503 rows x 2 columns]"
      ]
     },
     "execution_count": 15,
     "metadata": {},
     "output_type": "execute_result"
    }
   ],
   "source": [
    "out = pdfs2csv(df)\n",
    "out"
   ]
  },
  {
   "cell_type": "code",
   "execution_count": 16,
   "id": "98020815-9687-4857-b8f0-eeca6afd1120",
   "metadata": {},
   "outputs": [
    {
     "data": {
      "text/html": [
       "<div>\n",
       "<style scoped>\n",
       "    .dataframe tbody tr th:only-of-type {\n",
       "        vertical-align: middle;\n",
       "    }\n",
       "\n",
       "    .dataframe tbody tr th {\n",
       "        vertical-align: top;\n",
       "    }\n",
       "\n",
       "    .dataframe thead th {\n",
       "        text-align: right;\n",
       "    }\n",
       "</style>\n",
       "<table border=\"1\" class=\"dataframe\">\n",
       "  <thead>\n",
       "    <tr style=\"text-align: right;\">\n",
       "      <th></th>\n",
       "      <th>text</th>\n",
       "      <th>url</th>\n",
       "    </tr>\n",
       "  </thead>\n",
       "  <tbody>\n",
       "    <tr>\n",
       "      <th>0</th>\n",
       "      <td>от«09» (И 2029г. №1 О внесении измененийв пост...</td>\n",
       "      <td>https://www.алмазный-край.рф//upload/files/bnr...</td>\n",
       "    </tr>\n",
       "    <tr>\n",
       "      <th>1</th>\n",
       "      <td>от «30 » декабря 2022 г. № Об утверждении Поря...</td>\n",
       "      <td>https://www.алмазный-край.рф//upload/files/bnr...</td>\n",
       "    </tr>\n",
       "    <tr>\n",
       "      <th>2</th>\n",
       "      <td>от«. 90 &gt; [2022 т. № О внесении измененийв пос...</td>\n",
       "      <td>https://www.алмазный-край.рф//upload/files/bnr...</td>\n",
       "    </tr>\n",
       "    <tr>\n",
       "      <th>3</th>\n",
       "      <td>от«30» 06 утверждении—организационного комитет...</td>\n",
       "      <td>https://www.алмазный-край.рф//upload/files/bnr...</td>\n",
       "    </tr>\n",
       "    <tr>\n",
       "      <th>4</th>\n",
       "      <td>от«.30» 12 2022. №2031 О внесении изменений в ...</td>\n",
       "      <td>https://www.алмазный-край.рф//upload/files/bnr...</td>\n",
       "    </tr>\n",
       "    <tr>\n",
       "      <th>...</th>\n",
       "      <td>...</td>\n",
       "      <td>...</td>\n",
       "    </tr>\n",
       "    <tr>\n",
       "      <th>498</th>\n",
       "      <td>г. Мирный от «(04» 1 р 2025 г. № 1774 О внесен...</td>\n",
       "      <td>https://www.алмазный-край.рф//for%20export/177...</td>\n",
       "    </tr>\n",
       "    <tr>\n",
       "      <th>499</th>\n",
       "      <td>от «04»[22023 г. № [177г. Мирный О внесении из...</td>\n",
       "      <td>https://www.алмазный-край.рф//for%20export/177...</td>\n",
       "    </tr>\n",
       "    <tr>\n",
       "      <th>500</th>\n",
       "      <td>г. Мирный от «(4» (2 2023 г. № 18 02 О внесени...</td>\n",
       "      <td>https://www.алмазный-край.рф//for%20export/180...</td>\n",
       "    </tr>\n",
       "    <tr>\n",
       "      <th>501</th>\n",
       "      <td>г. Мирный от ‹ф 12 2023 г. № 40 О внесении изм...</td>\n",
       "      <td>https://www.алмазный-край.рф//for%20export/180...</td>\n",
       "    </tr>\n",
       "    <tr>\n",
       "      <th>502</th>\n",
       "      <td>г. Мирный ОТ « 04 » [2 2023 г. № (1 [7 Об утве...</td>\n",
       "      <td>https://www.алмазный-край.рф//for%20export/181...</td>\n",
       "    </tr>\n",
       "  </tbody>\n",
       "</table>\n",
       "<p>503 rows × 2 columns</p>\n",
       "</div>"
      ],
      "text/plain": [
       "                                                  text  \\\n",
       "0    от«09» (И 2029г. №1 О внесении измененийв пост...   \n",
       "1    от «30 » декабря 2022 г. № Об утверждении Поря...   \n",
       "2    от«. 90 > [2022 т. № О внесении измененийв пос...   \n",
       "3    от«30» 06 утверждении—организационного комитет...   \n",
       "4    от«.30» 12 2022. №2031 О внесении изменений в ...   \n",
       "..                                                 ...   \n",
       "498  г. Мирный от «(04» 1 р 2025 г. № 1774 О внесен...   \n",
       "499  от «04»[22023 г. № [177г. Мирный О внесении из...   \n",
       "500  г. Мирный от «(4» (2 2023 г. № 18 02 О внесени...   \n",
       "501  г. Мирный от ‹ф 12 2023 г. № 40 О внесении изм...   \n",
       "502  г. Мирный ОТ « 04 » [2 2023 г. № (1 [7 Об утве...   \n",
       "\n",
       "                                                   url  \n",
       "0    https://www.алмазный-край.рф//upload/files/bnr...  \n",
       "1    https://www.алмазный-край.рф//upload/files/bnr...  \n",
       "2    https://www.алмазный-край.рф//upload/files/bnr...  \n",
       "3    https://www.алмазный-край.рф//upload/files/bnr...  \n",
       "4    https://www.алмазный-край.рф//upload/files/bnr...  \n",
       "..                                                 ...  \n",
       "498  https://www.алмазный-край.рф//for%20export/177...  \n",
       "499  https://www.алмазный-край.рф//for%20export/177...  \n",
       "500  https://www.алмазный-край.рф//for%20export/180...  \n",
       "501  https://www.алмазный-край.рф//for%20export/180...  \n",
       "502  https://www.алмазный-край.рф//for%20export/181...  \n",
       "\n",
       "[503 rows x 2 columns]"
      ]
     },
     "execution_count": 16,
     "metadata": {},
     "output_type": "execute_result"
    }
   ],
   "source": [
    "out"
   ]
  },
  {
   "cell_type": "code",
   "execution_count": 17,
   "id": "114f586a-d561-43c9-9a41-d51d21986e95",
   "metadata": {},
   "outputs": [
    {
     "data": {
      "text/html": [
       "<div>\n",
       "<style scoped>\n",
       "    .dataframe tbody tr th:only-of-type {\n",
       "        vertical-align: middle;\n",
       "    }\n",
       "\n",
       "    .dataframe tbody tr th {\n",
       "        vertical-align: top;\n",
       "    }\n",
       "\n",
       "    .dataframe thead th {\n",
       "        text-align: right;\n",
       "    }\n",
       "</style>\n",
       "<table border=\"1\" class=\"dataframe\">\n",
       "  <thead>\n",
       "    <tr style=\"text-align: right;\">\n",
       "      <th></th>\n",
       "      <th>text</th>\n",
       "      <th>url</th>\n",
       "    </tr>\n",
       "  </thead>\n",
       "  <tbody>\n",
       "    <tr>\n",
       "      <th>0</th>\n",
       "      <td>от«09» (И 2029г. №1 О внесении измененийв пост...</td>\n",
       "      <td>https://www.алмазный-край.рф//upload/files/bnr...</td>\n",
       "    </tr>\n",
       "    <tr>\n",
       "      <th>1</th>\n",
       "      <td>от «30 » декабря 2022 г. № Об утверждении Поря...</td>\n",
       "      <td>https://www.алмазный-край.рф//upload/files/bnr...</td>\n",
       "    </tr>\n",
       "    <tr>\n",
       "      <th>2</th>\n",
       "      <td>от«. 90 &gt; [2022 т. № О внесении измененийв пос...</td>\n",
       "      <td>https://www.алмазный-край.рф//upload/files/bnr...</td>\n",
       "    </tr>\n",
       "    <tr>\n",
       "      <th>3</th>\n",
       "      <td>от«30» 06 утверждении—организационного комитет...</td>\n",
       "      <td>https://www.алмазный-край.рф//upload/files/bnr...</td>\n",
       "    </tr>\n",
       "    <tr>\n",
       "      <th>4</th>\n",
       "      <td>от«.30» 12 2022. №2031 О внесении изменений в ...</td>\n",
       "      <td>https://www.алмазный-край.рф//upload/files/bnr...</td>\n",
       "    </tr>\n",
       "    <tr>\n",
       "      <th>...</th>\n",
       "      <td>...</td>\n",
       "      <td>...</td>\n",
       "    </tr>\n",
       "    <tr>\n",
       "      <th>498</th>\n",
       "      <td>г. Мирный от «(04» 1 р 2025 г. № 1774 О внесен...</td>\n",
       "      <td>https://www.алмазный-край.рф//for%20export/177...</td>\n",
       "    </tr>\n",
       "    <tr>\n",
       "      <th>499</th>\n",
       "      <td>от «04»[22023 г. № [177г. Мирный О внесении из...</td>\n",
       "      <td>https://www.алмазный-край.рф//for%20export/177...</td>\n",
       "    </tr>\n",
       "    <tr>\n",
       "      <th>500</th>\n",
       "      <td>г. Мирный от «(4» (2 2023 г. № 18 02 О внесени...</td>\n",
       "      <td>https://www.алмазный-край.рф//for%20export/180...</td>\n",
       "    </tr>\n",
       "    <tr>\n",
       "      <th>501</th>\n",
       "      <td>г. Мирный от ‹ф 12 2023 г. № 40 О внесении изм...</td>\n",
       "      <td>https://www.алмазный-край.рф//for%20export/180...</td>\n",
       "    </tr>\n",
       "    <tr>\n",
       "      <th>502</th>\n",
       "      <td>г. Мирный ОТ « 04 » [2 2023 г. № (1 [7 Об утве...</td>\n",
       "      <td>https://www.алмазный-край.рф//for%20export/181...</td>\n",
       "    </tr>\n",
       "  </tbody>\n",
       "</table>\n",
       "<p>457 rows × 2 columns</p>\n",
       "</div>"
      ],
      "text/plain": [
       "                                                  text  \\\n",
       "0    от«09» (И 2029г. №1 О внесении измененийв пост...   \n",
       "1    от «30 » декабря 2022 г. № Об утверждении Поря...   \n",
       "2    от«. 90 > [2022 т. № О внесении измененийв пос...   \n",
       "3    от«30» 06 утверждении—организационного комитет...   \n",
       "4    от«.30» 12 2022. №2031 О внесении изменений в ...   \n",
       "..                                                 ...   \n",
       "498  г. Мирный от «(04» 1 р 2025 г. № 1774 О внесен...   \n",
       "499  от «04»[22023 г. № [177г. Мирный О внесении из...   \n",
       "500  г. Мирный от «(4» (2 2023 г. № 18 02 О внесени...   \n",
       "501  г. Мирный от ‹ф 12 2023 г. № 40 О внесении изм...   \n",
       "502  г. Мирный ОТ « 04 » [2 2023 г. № (1 [7 Об утве...   \n",
       "\n",
       "                                                   url  \n",
       "0    https://www.алмазный-край.рф//upload/files/bnr...  \n",
       "1    https://www.алмазный-край.рф//upload/files/bnr...  \n",
       "2    https://www.алмазный-край.рф//upload/files/bnr...  \n",
       "3    https://www.алмазный-край.рф//upload/files/bnr...  \n",
       "4    https://www.алмазный-край.рф//upload/files/bnr...  \n",
       "..                                                 ...  \n",
       "498  https://www.алмазный-край.рф//for%20export/177...  \n",
       "499  https://www.алмазный-край.рф//for%20export/177...  \n",
       "500  https://www.алмазный-край.рф//for%20export/180...  \n",
       "501  https://www.алмазный-край.рф//for%20export/180...  \n",
       "502  https://www.алмазный-край.рф//for%20export/181...  \n",
       "\n",
       "[457 rows x 2 columns]"
      ]
     },
     "execution_count": 17,
     "metadata": {},
     "output_type": "execute_result"
    }
   ],
   "source": [
    "out = out[out[\"text\"] != \"error\"]\n",
    "out"
   ]
  },
  {
   "cell_type": "code",
   "execution_count": 18,
   "id": "5e09c2fc-2484-4b86-9873-bb9d529458e5",
   "metadata": {},
   "outputs": [],
   "source": [
    "out.to_csv(\"parsed.csv\", index=False)"
   ]
  },
  {
   "cell_type": "code",
   "execution_count": null,
   "id": "31e3d8b4-4cb9-4909-b154-fd0a7f589fd6",
   "metadata": {},
   "outputs": [],
   "source": []
  }
 ],
 "metadata": {
  "kernelspec": {
   "display_name": "Python 3 (ipykernel)",
   "language": "python",
   "name": "python3"
  },
  "language_info": {
   "codemirror_mode": {
    "name": "ipython",
    "version": 3
   },
   "file_extension": ".py",
   "mimetype": "text/x-python",
   "name": "python",
   "nbconvert_exporter": "python",
   "pygments_lexer": "ipython3",
   "version": "3.10.12"
  }
 },
 "nbformat": 4,
 "nbformat_minor": 5
}
