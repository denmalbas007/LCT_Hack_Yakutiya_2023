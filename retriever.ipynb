{
 "cells": [
  {
   "cell_type": "markdown",
   "id": "c7696773-51c4-48a5-a344-c47c94a3c960",
   "metadata": {},
   "source": [
    "# Libraries"
   ]
  },
  {
   "cell_type": "code",
   "execution_count": 1,
   "id": "acdd230d-502e-4966-94ce-4118a757a78b",
   "metadata": {},
   "outputs": [],
   "source": [
    "import sys\n",
    "\n",
    "sys.path.insert(0, \"/home/leffff/PycharmProjects/LCT_Hack_Yakutiya_2023/venv/lib/python3.10/site-packages\")"
   ]
  },
  {
   "cell_type": "code",
   "execution_count": 2,
   "id": "8ff787f7-3276-4447-aa85-a60714901acb",
   "metadata": {},
   "outputs": [],
   "source": [
    "from joblib import dump, load\n",
    "from tqdm.auto import tqdm \n",
    "tqdm.pandas()\n",
    "import re \n",
    "\n",
    "import pandas as pd\n",
    "import numpy as np\n",
    "from datasets import Dataset\n",
    "\n",
    "import scipy\n",
    "import sklearn\n",
    "from sklearn.neighbors import KDTree, NearestNeighbors\n",
    "\n",
    "import torch\n",
    "from torch.utils.data import DataLoader\n",
    "from transformers import AutoModel, AutoTokenizer"
   ]
  },
  {
   "cell_type": "markdown",
   "id": "15b7715e-6825-4397-9092-d43fc342aa54",
   "metadata": {},
   "source": [
    "# Retriever Model"
   ]
  },
  {
   "cell_type": "code",
   "execution_count": 3,
   "id": "97719dda-b2bb-4c82-8df0-b451fe52d768",
   "metadata": {},
   "outputs": [
    {
     "name": "stderr",
     "output_type": "stream",
     "text": [
      "You are using the default legacy behaviour of the <class 'transformers.models.t5.tokenization_t5.T5Tokenizer'>. This is expected, and simply means that the `legacy` (previous) behavior will be used so nothing changes for you. If you want to use the new behaviour, set `legacy=False`. This should only be set if you understand what it means, and thouroughly read the reason why this was added as explained in https://github.com/huggingface/transformers/pull/24565\n",
      "/home/leffff/PycharmProjects/LCT_Hack_Yakutiya_2023/venv/lib/python3.10/site-packages/transformers/convert_slow_tokenizer.py:473: UserWarning: The sentencepiece tokenizer that you are converting to a fast tokenizer uses the byte fallback option which is not implemented in the fast tokenizers. In practice this means that the fast version of the tokenizer can produce unknown tokens whereas the sentencepiece version would have converted these unknown tokens into a sequence of byte tokens matching the original piece of text.\n",
      "  warnings.warn(\n"
     ]
    }
   ],
   "source": [
    "from transformers import AutoTokenizer, AutoModelForSeq2SeqLM\n",
    "\n",
    "model_name = \"csebuetnlp/mT5_multilingual_XLSum\"\n",
    "tokenizer = AutoTokenizer.from_pretrained(model_name)\n",
    "model = AutoModelForSeq2SeqLM.from_pretrained(model_name)"
   ]
  },
  {
   "cell_type": "code",
   "execution_count": 4,
   "id": "adc539da-2c2c-48b8-8f38-5461b0de49ca",
   "metadata": {},
   "outputs": [],
   "source": [
    "class Summarizer:\n",
    "    def __init__(self, \n",
    "                 model: AutoModel,\n",
    "                 tokenizer: AutoTokenizer,\n",
    "                 device: str = \"cuda\"):\n",
    "        super().__init__()\n",
    "        self.device = device\n",
    "\n",
    "        self.model = model\n",
    "        self.tokenizer = tokenizer\n",
    "        self.model.eval()\n",
    "        self.model.to(self.device)\n",
    "\n",
    "        self.WHITESPACE_HANDLER = lambda k: re.sub('\\s+', ' ', re.sub('\\n+', ' ', k.strip()))\n",
    "\n",
    "        \n",
    "    def summarize(self, text):\n",
    "        input_ids = self.tokenizer(\n",
    "            [self.WHITESPACE_HANDLER(text)],\n",
    "            return_tensors=\"pt\",\n",
    "            padding=\"max_length\",\n",
    "            truncation=True,\n",
    "            max_length=512\n",
    "        )[\"input_ids\"].to(self.device)\n",
    "        \n",
    "        output_ids = self.model.generate(\n",
    "            input_ids=input_ids,\n",
    "            max_length=256,\n",
    "            no_repeat_ngram_size=2,\n",
    "            num_beams=4\n",
    "        )[0]\n",
    "        \n",
    "        summary = self.tokenizer.decode(\n",
    "            output_ids,\n",
    "            skip_special_tokens=True,\n",
    "            clean_up_tokenization_spaces=False\n",
    "        )\n",
    "\n",
    "        return summary\n",
    "                "
   ]
  },
  {
   "cell_type": "code",
   "execution_count": 5,
   "id": "ef5ff64a-d0ce-4a6c-9dc0-621500b197a1",
   "metadata": {},
   "outputs": [
    {
     "data": {
      "text/plain": [
       "'Постановление о возврате неиспользованных остатков средств, предоставленных муниципальным бюджетным и автономным учреждениям из бюджета города \"Мирнинский район\" Республики Саха (Якутия).'"
      ]
     },
     "execution_count": 5,
     "metadata": {},
     "output_type": "execute_result"
    }
   ],
   "source": [
    "summarizer = Summarizer(\n",
    "    model,\n",
    "    tokenizer\n",
    ") \n",
    "summarizer.summarize(\n",
    "    \"от «30 » декабря 2022 г. № Об утверждении Порядка возврата неиспользованных остатков средств, предоставленных муниципальным бюджетным и автономным учреждениям из бюджета МО «Мириинский район» Республики Саха (Якутия)в соответствии с абзацем вторым пункта 1 статьи 78.1. и со статьей 78.2 Бюджетного кодекса Российский Федерации В соответствии с частью 18 статьи 30 Федерального законаот 08.05.2010 № 83-Ф3 «О внесении изменений в отдельные законодательные акты Российской Федерации в связи с совершенствованием правового положения государственных (муниципальных) учреждений», частями 3.17, 3.18 статьи 2 Федерального закона от 03.11.2006 №174-ФЗ «Об автономных учреждениях», постановлениями районной Администрации от 24.11.2020 № 1679 «Об утверждении Порядка определения объема и условий предоставления субсидий на иные цели из бюджета МО «Мирнинский район» Республики Саха (Якутия) муниципальным бюджетным и автономным учреждениям», от 15.02.2017 № 0213 «Об утверждении Положения об осуществлении капитальных вложений в объекты муниципальной собственности МО «Мирнинский район» Республики Саха (Якутия)»: 1. Утвердить Порядок возврата неиспользованных остатков средств, предоставленных муниципальным бюджетным и автономным учреждениям из бюджета МО «Мирнинский район» Республики Саха (Якутия) в соответствии с абзацем вторым пункта | статьи 78.1. и со статьей 78.2 Бюджетного кодекса Российской Федерации согласно приложению к настоящему постановлению. 2. Рекомендовать муниципальным образованиям — поселений 'Мирнинского района руководствоваться настоящим Порядком при разработке муниципальных правовых актов, регламентирующих порядок возврата неиспользованных остатков средств, предоставленных муниципальным бюджетным и автономным учреждениямиз местных бюджетовв соответствии с абзацем вторым пункта | статьи 78.1. и со статьей 78.2 Бюджетного кодекса Российской Федерации. 3. Настоящее Постановление распространяется на правоотношения, возникшиес 01.01.2022 года. 4. Признать утратившим силу постановление районной Администрации от 24.12.2020 № 2059 «Об утверждении Порядка возврата неиспользованных остатков субсидий на иные цели, предоставленных из бюджета МО «Мирнинский район» Республики Саха (Якутия) муниципальным бюджетным и автономным учреждениям». 5. Финансовому управлению (Чемчосва Я.П.) совместно с пресс- службой (Гибало А.О.) разместить настоящее постановление на официальном сайте МО «Мирнинский район» Республики Саха (Якутия) (уу. алмазный край.рф). 6. Контроль исполнения настоящего постановления возложить на заместителя Главы Администрации района по экономике и финансам Башарина Г.К. И.о. Главы Администрации района Д.А. Ширинский Приложение к постановлению районной Администрации от«.4(_» декабря 2022 г.№,03 Порядок возврата неиспользованных остатков средств, предоставленных муниципальным бюджетным и автономным учреждениям из бюджета МО «Мирнинский район»Республики Саха (Якутия) в соответствиис абзацем вторым пункта 1 статьи 78.1 и со статьей 78.2 Бюджетного кодекса Российской Федерации 1. Настоящий Порядок устанавливает правила возврата в бюджет МО «Мирнинский район» Республики Саха (Якутия) неиспользованных на начало текущего финансового года остатков субсидий на иные цели, предоставленных муниципальным бюджетным и автономным учреждениям из бюджета МО «Мирнинский район» Республики Саха (Якутия) в соответствии с абзацем вторым пункта | статьи 78.1. и субсидий на осуществление капитальных вложений в объекты капитального строительства муниципальной собственности и приобретение объектов недвижимого имущества в муниципальную собственность в соответствии со статьей 78.2 Бюджетного кодекса Российской Федерации (далее — субсидии). 2. Возврату подлежат неиспользованные на 1 января текущего финансового года остатки субсидий, предоставленных органами, осуществляющими функции и полномочия учредителя, в течение первых 15 рабочих дней текущего финансового года.\"\n",
    ")"
   ]
  },
  {
   "cell_type": "code",
   "execution_count": 6,
   "id": "3a30a939-25ea-48a2-b2d3-6d049c11fac0",
   "metadata": {},
   "outputs": [
    {
     "data": {
      "text/html": [
       "<div>\n",
       "<style scoped>\n",
       "    .dataframe tbody tr th:only-of-type {\n",
       "        vertical-align: middle;\n",
       "    }\n",
       "\n",
       "    .dataframe tbody tr th {\n",
       "        vertical-align: top;\n",
       "    }\n",
       "\n",
       "    .dataframe thead th {\n",
       "        text-align: right;\n",
       "    }\n",
       "</style>\n",
       "<table border=\"1\" class=\"dataframe\">\n",
       "  <thead>\n",
       "    <tr style=\"text-align: right;\">\n",
       "      <th></th>\n",
       "      <th>text</th>\n",
       "      <th>url</th>\n",
       "    </tr>\n",
       "  </thead>\n",
       "  <tbody>\n",
       "    <tr>\n",
       "      <th>0</th>\n",
       "      <td>от«09» (И 2029г. №1 О внесении измененийв пост...</td>\n",
       "      <td>https://www.алмазный-край.рф//upload/files/bnr...</td>\n",
       "    </tr>\n",
       "    <tr>\n",
       "      <th>1</th>\n",
       "      <td>от «30 » декабря 2022 г. № Об утверждении Поря...</td>\n",
       "      <td>https://www.алмазный-край.рф//upload/files/bnr...</td>\n",
       "    </tr>\n",
       "    <tr>\n",
       "      <th>2</th>\n",
       "      <td>от«. 90 &gt; [2022 т. № О внесении измененийв пос...</td>\n",
       "      <td>https://www.алмазный-край.рф//upload/files/bnr...</td>\n",
       "    </tr>\n",
       "    <tr>\n",
       "      <th>3</th>\n",
       "      <td>от«30» 06 утверждении—организационного комитет...</td>\n",
       "      <td>https://www.алмазный-край.рф//upload/files/bnr...</td>\n",
       "    </tr>\n",
       "    <tr>\n",
       "      <th>4</th>\n",
       "      <td>от«.30» 12 2022. №2031 О внесении изменений в ...</td>\n",
       "      <td>https://www.алмазный-край.рф//upload/files/bnr...</td>\n",
       "    </tr>\n",
       "    <tr>\n",
       "      <th>...</th>\n",
       "      <td>...</td>\n",
       "      <td>...</td>\n",
       "    </tr>\n",
       "    <tr>\n",
       "      <th>452</th>\n",
       "      <td>г. Мирный от «(04» 1 р 2025 г. № 1774 О внесен...</td>\n",
       "      <td>https://www.алмазный-край.рф//for%20export/177...</td>\n",
       "    </tr>\n",
       "    <tr>\n",
       "      <th>453</th>\n",
       "      <td>от «04»[22023 г. № [177г. Мирный О внесении из...</td>\n",
       "      <td>https://www.алмазный-край.рф//for%20export/177...</td>\n",
       "    </tr>\n",
       "    <tr>\n",
       "      <th>454</th>\n",
       "      <td>г. Мирный от «(4» (2 2023 г. № 18 02 О внесени...</td>\n",
       "      <td>https://www.алмазный-край.рф//for%20export/180...</td>\n",
       "    </tr>\n",
       "    <tr>\n",
       "      <th>455</th>\n",
       "      <td>г. Мирный от ‹ф 12 2023 г. № 40 О внесении изм...</td>\n",
       "      <td>https://www.алмазный-край.рф//for%20export/180...</td>\n",
       "    </tr>\n",
       "    <tr>\n",
       "      <th>456</th>\n",
       "      <td>г. Мирный ОТ « 04 » [2 2023 г. № (1 [7 Об утве...</td>\n",
       "      <td>https://www.алмазный-край.рф//for%20export/181...</td>\n",
       "    </tr>\n",
       "  </tbody>\n",
       "</table>\n",
       "<p>457 rows × 2 columns</p>\n",
       "</div>"
      ],
      "text/plain": [
       "                                                  text  \\\n",
       "0    от«09» (И 2029г. №1 О внесении измененийв пост...   \n",
       "1    от «30 » декабря 2022 г. № Об утверждении Поря...   \n",
       "2    от«. 90 > [2022 т. № О внесении измененийв пос...   \n",
       "3    от«30» 06 утверждении—организационного комитет...   \n",
       "4    от«.30» 12 2022. №2031 О внесении изменений в ...   \n",
       "..                                                 ...   \n",
       "452  г. Мирный от «(04» 1 р 2025 г. № 1774 О внесен...   \n",
       "453  от «04»[22023 г. № [177г. Мирный О внесении из...   \n",
       "454  г. Мирный от «(4» (2 2023 г. № 18 02 О внесени...   \n",
       "455  г. Мирный от ‹ф 12 2023 г. № 40 О внесении изм...   \n",
       "456  г. Мирный ОТ « 04 » [2 2023 г. № (1 [7 Об утве...   \n",
       "\n",
       "                                                   url  \n",
       "0    https://www.алмазный-край.рф//upload/files/bnr...  \n",
       "1    https://www.алмазный-край.рф//upload/files/bnr...  \n",
       "2    https://www.алмазный-край.рф//upload/files/bnr...  \n",
       "3    https://www.алмазный-край.рф//upload/files/bnr...  \n",
       "4    https://www.алмазный-край.рф//upload/files/bnr...  \n",
       "..                                                 ...  \n",
       "452  https://www.алмазный-край.рф//for%20export/177...  \n",
       "453  https://www.алмазный-край.рф//for%20export/177...  \n",
       "454  https://www.алмазный-край.рф//for%20export/180...  \n",
       "455  https://www.алмазный-край.рф//for%20export/180...  \n",
       "456  https://www.алмазный-край.рф//for%20export/181...  \n",
       "\n",
       "[457 rows x 2 columns]"
      ]
     },
     "execution_count": 6,
     "metadata": {},
     "output_type": "execute_result"
    }
   ],
   "source": [
    "data = pd.read_csv(\"parsed.csv\")\n",
    "data"
   ]
  },
  {
   "cell_type": "code",
   "execution_count": 7,
   "id": "2cd28e34-d002-440c-bad5-cfe7ff01a18c",
   "metadata": {},
   "outputs": [
    {
     "data": {
      "application/vnd.jupyter.widget-view+json": {
       "model_id": "6568cb9317714c5dac26f41d0d528e8d",
       "version_major": 2,
       "version_minor": 0
      },
      "text/plain": [
       "  0%|          | 0/457 [00:00<?, ?it/s]"
      ]
     },
     "metadata": {},
     "output_type": "display_data"
    },
    {
     "data": {
      "text/html": [
       "<div>\n",
       "<style scoped>\n",
       "    .dataframe tbody tr th:only-of-type {\n",
       "        vertical-align: middle;\n",
       "    }\n",
       "\n",
       "    .dataframe tbody tr th {\n",
       "        vertical-align: top;\n",
       "    }\n",
       "\n",
       "    .dataframe thead th {\n",
       "        text-align: right;\n",
       "    }\n",
       "</style>\n",
       "<table border=\"1\" class=\"dataframe\">\n",
       "  <thead>\n",
       "    <tr style=\"text-align: right;\">\n",
       "      <th></th>\n",
       "      <th>text</th>\n",
       "      <th>url</th>\n",
       "      <th>short_text</th>\n",
       "    </tr>\n",
       "  </thead>\n",
       "  <tbody>\n",
       "    <tr>\n",
       "      <th>0</th>\n",
       "      <td>от«09» (И 2029г. №1 О внесении измененийв пост...</td>\n",
       "      <td>https://www.алмазный-край.рф//upload/files/bnr...</td>\n",
       "      <td>В Донецкой области внесены изменения в Порядок...</td>\n",
       "    </tr>\n",
       "    <tr>\n",
       "      <th>1</th>\n",
       "      <td>от «30 » декабря 2022 г. № Об утверждении Поря...</td>\n",
       "      <td>https://www.алмазный-край.рф//upload/files/bnr...</td>\n",
       "      <td>Постановление о возврате неиспользованных оста...</td>\n",
       "    </tr>\n",
       "    <tr>\n",
       "      <th>2</th>\n",
       "      <td>от«. 90 &gt; [2022 т. № О внесении измененийв пос...</td>\n",
       "      <td>https://www.алмазный-край.рф//upload/files/bnr...</td>\n",
       "      <td>Администрация района \"Мирнинский район\" Респуб...</td>\n",
       "    </tr>\n",
       "    <tr>\n",
       "      <th>3</th>\n",
       "      <td>от«30» 06 утверждении—организационного комитет...</td>\n",
       "      <td>https://www.алмазный-край.рф//upload/files/bnr...</td>\n",
       "      <td>Администрация района \"Мирнинский район\" Респуб...</td>\n",
       "    </tr>\n",
       "    <tr>\n",
       "      <th>4</th>\n",
       "      <td>от«.30» 12 2022. №2031 О внесении изменений в ...</td>\n",
       "      <td>https://www.алмазный-край.рф//upload/files/bnr...</td>\n",
       "      <td>Российское министерство образования и науки оп...</td>\n",
       "    </tr>\n",
       "    <tr>\n",
       "      <th>...</th>\n",
       "      <td>...</td>\n",
       "      <td>...</td>\n",
       "      <td>...</td>\n",
       "    </tr>\n",
       "    <tr>\n",
       "      <th>452</th>\n",
       "      <td>г. Мирный от «(04» 1 р 2025 г. № 1774 О внесен...</td>\n",
       "      <td>https://www.алмазный-край.рф//for%20export/177...</td>\n",
       "      <td>Постановление о создании районной санитарно-пр...</td>\n",
       "    </tr>\n",
       "    <tr>\n",
       "      <th>453</th>\n",
       "      <td>от «04»[22023 г. № [177г. Мирный О внесении из...</td>\n",
       "      <td>https://www.алмазный-край.рф//for%20export/177...</td>\n",
       "      <td>Администрация Мирнинского района Республики Са...</td>\n",
       "    </tr>\n",
       "    <tr>\n",
       "      <th>454</th>\n",
       "      <td>г. Мирный от «(4» (2 2023 г. № 18 02 О внесени...</td>\n",
       "      <td>https://www.алмазный-край.рф//for%20export/180...</td>\n",
       "      <td>Государственная служба по чрезвычайным ситуаци...</td>\n",
       "    </tr>\n",
       "    <tr>\n",
       "      <th>455</th>\n",
       "      <td>г. Мирный от ‹ф 12 2023 г. № 40 О внесении изм...</td>\n",
       "      <td>https://www.алмазный-край.рф//for%20export/180...</td>\n",
       "      <td>Постановление о присвоении звания «Почетный до...</td>\n",
       "    </tr>\n",
       "    <tr>\n",
       "      <th>456</th>\n",
       "      <td>г. Мирный ОТ « 04 » [2 2023 г. № (1 [7 Об утве...</td>\n",
       "      <td>https://www.алмазный-край.рф//for%20export/181...</td>\n",
       "      <td>Утверждение программы профилактики рисков прич...</td>\n",
       "    </tr>\n",
       "  </tbody>\n",
       "</table>\n",
       "<p>457 rows × 3 columns</p>\n",
       "</div>"
      ],
      "text/plain": [
       "                                                  text  \\\n",
       "0    от«09» (И 2029г. №1 О внесении измененийв пост...   \n",
       "1    от «30 » декабря 2022 г. № Об утверждении Поря...   \n",
       "2    от«. 90 > [2022 т. № О внесении измененийв пос...   \n",
       "3    от«30» 06 утверждении—организационного комитет...   \n",
       "4    от«.30» 12 2022. №2031 О внесении изменений в ...   \n",
       "..                                                 ...   \n",
       "452  г. Мирный от «(04» 1 р 2025 г. № 1774 О внесен...   \n",
       "453  от «04»[22023 г. № [177г. Мирный О внесении из...   \n",
       "454  г. Мирный от «(4» (2 2023 г. № 18 02 О внесени...   \n",
       "455  г. Мирный от ‹ф 12 2023 г. № 40 О внесении изм...   \n",
       "456  г. Мирный ОТ « 04 » [2 2023 г. № (1 [7 Об утве...   \n",
       "\n",
       "                                                   url  \\\n",
       "0    https://www.алмазный-край.рф//upload/files/bnr...   \n",
       "1    https://www.алмазный-край.рф//upload/files/bnr...   \n",
       "2    https://www.алмазный-край.рф//upload/files/bnr...   \n",
       "3    https://www.алмазный-край.рф//upload/files/bnr...   \n",
       "4    https://www.алмазный-край.рф//upload/files/bnr...   \n",
       "..                                                 ...   \n",
       "452  https://www.алмазный-край.рф//for%20export/177...   \n",
       "453  https://www.алмазный-край.рф//for%20export/177...   \n",
       "454  https://www.алмазный-край.рф//for%20export/180...   \n",
       "455  https://www.алмазный-край.рф//for%20export/180...   \n",
       "456  https://www.алмазный-край.рф//for%20export/181...   \n",
       "\n",
       "                                            short_text  \n",
       "0    В Донецкой области внесены изменения в Порядок...  \n",
       "1    Постановление о возврате неиспользованных оста...  \n",
       "2    Администрация района \"Мирнинский район\" Респуб...  \n",
       "3    Администрация района \"Мирнинский район\" Респуб...  \n",
       "4    Российское министерство образования и науки оп...  \n",
       "..                                                 ...  \n",
       "452  Постановление о создании районной санитарно-пр...  \n",
       "453  Администрация Мирнинского района Республики Са...  \n",
       "454  Государственная служба по чрезвычайным ситуаци...  \n",
       "455  Постановление о присвоении звания «Почетный до...  \n",
       "456  Утверждение программы профилактики рисков прич...  \n",
       "\n",
       "[457 rows x 3 columns]"
      ]
     },
     "execution_count": 7,
     "metadata": {},
     "output_type": "execute_result"
    }
   ],
   "source": [
    "data[\"short_text\"] = data[\"text\"].progress_apply(summarizer.summarize)\n",
    "data"
   ]
  },
  {
   "cell_type": "code",
   "execution_count": 11,
   "id": "f0ee3b78-95b2-4789-98ab-9f437a9c7eb1",
   "metadata": {},
   "outputs": [],
   "source": [
    "data.to_csv(\"parsed.csv\", index=False)"
   ]
  },
  {
   "cell_type": "markdown",
   "id": "3a5a8479-6ec5-4694-aebb-627b1a22837c",
   "metadata": {},
   "source": [
    "# Dataset Builder"
   ]
  },
  {
   "cell_type": "code",
   "execution_count": 12,
   "id": "877fcc6d-e09e-46c2-b4d4-c5b2554b1a94",
   "metadata": {
    "scrolled": true
   },
   "outputs": [
    {
     "data": {
      "text/plain": [
       "BertModel(\n",
       "  (embeddings): BertEmbeddings(\n",
       "    (word_embeddings): Embedding(120138, 1024, padding_idx=0)\n",
       "    (position_embeddings): Embedding(512, 1024)\n",
       "    (token_type_embeddings): Embedding(2, 1024)\n",
       "    (LayerNorm): LayerNorm((1024,), eps=1e-12, elementwise_affine=True)\n",
       "    (dropout): Dropout(p=0.1, inplace=False)\n",
       "  )\n",
       "  (encoder): BertEncoder(\n",
       "    (layer): ModuleList(\n",
       "      (0-23): 24 x BertLayer(\n",
       "        (attention): BertAttention(\n",
       "          (self): BertSelfAttention(\n",
       "            (query): Linear(in_features=1024, out_features=1024, bias=True)\n",
       "            (key): Linear(in_features=1024, out_features=1024, bias=True)\n",
       "            (value): Linear(in_features=1024, out_features=1024, bias=True)\n",
       "            (dropout): Dropout(p=0.1, inplace=False)\n",
       "          )\n",
       "          (output): BertSelfOutput(\n",
       "            (dense): Linear(in_features=1024, out_features=1024, bias=True)\n",
       "            (LayerNorm): LayerNorm((1024,), eps=1e-12, elementwise_affine=True)\n",
       "            (dropout): Dropout(p=0.1, inplace=False)\n",
       "          )\n",
       "        )\n",
       "        (intermediate): BertIntermediate(\n",
       "          (dense): Linear(in_features=1024, out_features=4096, bias=True)\n",
       "          (intermediate_act_fn): GELUActivation()\n",
       "        )\n",
       "        (output): BertOutput(\n",
       "          (dense): Linear(in_features=4096, out_features=1024, bias=True)\n",
       "          (LayerNorm): LayerNorm((1024,), eps=1e-12, elementwise_affine=True)\n",
       "          (dropout): Dropout(p=0.1, inplace=False)\n",
       "        )\n",
       "      )\n",
       "    )\n",
       "  )\n",
       "  (pooler): BertPooler(\n",
       "    (dense): Linear(in_features=1024, out_features=1024, bias=True)\n",
       "    (activation): Tanh()\n",
       "  )\n",
       ")"
      ]
     },
     "execution_count": 12,
     "metadata": {},
     "output_type": "execute_result"
    }
   ],
   "source": [
    "model = AutoModel.from_pretrained(\"ai-forever/sbert_large_nlu_ru\")\n",
    "tokenizer = AutoTokenizer.from_pretrained(\"ai-forever/sbert_large_nlu_ru\")\n",
    "model"
   ]
  },
  {
   "cell_type": "code",
   "execution_count": 25,
   "id": "b4511334-2aa7-40a6-8890-cade29b4d8e7",
   "metadata": {},
   "outputs": [],
   "source": [
    "def mean_pooling(model_output, attention_mask):\n",
    "    token_embeddings = model_output[0] #First element of model_output contains all token embeddings\n",
    "    input_mask_expanded = attention_mask.unsqueeze(-1).expand(token_embeddings.size()).float()\n",
    "    sum_embeddings = torch.sum(token_embeddings * input_mask_expanded, 1)\n",
    "    sum_mask = torch.clamp(input_mask_expanded.sum(1), min=1e-9)\n",
    "    return sum_embeddings / sum_mask"
   ]
  },
  {
   "cell_type": "code",
   "execution_count": 28,
   "id": "f3d37d13-8f1f-4c70-bd6f-4faa54b4cc14",
   "metadata": {},
   "outputs": [],
   "source": [
    "class RoBERTaEmbeddingBuilder:\n",
    "    def __init__(self,\n",
    "                 model: AutoModel,\n",
    "                 tokenizer: AutoTokenizer,\n",
    "                 summarizer, \n",
    "                 csv_path: str,\n",
    "                 embeddings_save_path: str = \"embeddings.npy\",\n",
    "                 kdtree_save_path: str = \"kdtree.joblib\",\n",
    "                 batch_size: int = 1,\n",
    "                 device: str = \"cuda\"):\n",
    "        super().__init__()\n",
    "        self.device = device\n",
    "\n",
    "        self.model = model\n",
    "        self.tokenizer = tokenizer\n",
    "        self.model.eval()\n",
    "        self.model.to(self.device)\n",
    "\n",
    "        self.summarizer = summarizer\n",
    "\n",
    "        self.embeddings_save_path = embeddings_save_path\n",
    "        self.kdtree_save_path = kdtree_save_path\n",
    "\n",
    "        self.batch_size = batch_size\n",
    "\n",
    "        self._load_dataset(csv_path)\n",
    "        self._process_dataset()\n",
    "        self.extract_embeddings()\n",
    "\n",
    "    def _summarize(self, text):\n",
    "        return self.summarizer.summarize(text)\n",
    "    \n",
    "    def _load_dataset(self, csv_path):\n",
    "        df = pd.read_csv(csv_path)\n",
    "        self.dataset = Dataset.from_pandas(df)\n",
    "\n",
    "    def _process_dataset(self):\n",
    "        self.dataset = self.dataset.map(\n",
    "            lambda sample: self._preprocess_text(sample['short_text'])\n",
    "            # lambda sample: print(sample[\"text\"])\n",
    "        )\n",
    "\n",
    "        self.dataset = self.dataset.remove_columns([\n",
    "            'short_text'\n",
    "        ])\n",
    "\n",
    "        self.dataset.set_format(type='torch', columns=['input_ids', 'attention_mask'])   \n",
    " \n",
    "    def _preprocess_text(self, text):\n",
    "        # print(text)\n",
    "        out = self.tokenizer.encode_plus(text, max_length=512, truncation=True, padding=\"max_length\")\n",
    "        return out\n",
    "\n",
    "    def extract_embeddings(self) -> None:\n",
    "        dataloader = DataLoader(self.dataset, batch_size=self.batch_size)\n",
    "\n",
    "        embeddings = []\n",
    "\n",
    "        for batch in tqdm(dataloader):\n",
    "            input_ids, attention_masks = batch[\"input_ids\"], batch[\"attention_mask\"]\n",
    "            input_ids, attention_masks = input_ids.to(self.device), attention_masks.to(self.device)\n",
    "\n",
    "            with torch.no_grad():\n",
    "                output = mean_pooling(model(\n",
    "                    input_ids=input_ids,\n",
    "                    attention_mask=attention_masks,\n",
    "                ), attention_masks)\n",
    "\n",
    "            embeddings.append(output.cpu())\n",
    "\n",
    "        embeddings = torch.cat(embeddings, dim=0).numpy()\n",
    "\n",
    "        kdtree = NearestNeighbors(n_neighbors=5,\n",
    "                         metric='cosine',\n",
    "                         algorithm='brute',\n",
    "                         n_jobs=-1)\n",
    "        kdtree.fit(embeddings)\n",
    "        \n",
    "        dump(kdtree, self.kdtree_save_path)\n"
   ]
  },
  {
   "cell_type": "code",
   "execution_count": 29,
   "id": "d8d0c419-5df9-4bbd-9d91-7c1ba6f8c200",
   "metadata": {},
   "outputs": [
    {
     "data": {
      "application/vnd.jupyter.widget-view+json": {
       "model_id": "3d5eeab997484adca550fe40701c884b",
       "version_major": 2,
       "version_minor": 0
      },
      "text/plain": [
       "Map:   0%|          | 0/457 [00:00<?, ? examples/s]"
      ]
     },
     "metadata": {},
     "output_type": "display_data"
    },
    {
     "data": {
      "application/vnd.jupyter.widget-view+json": {
       "model_id": "2f91d08f34ff46c6a9a84d24bc0e153d",
       "version_major": 2,
       "version_minor": 0
      },
      "text/plain": [
       "  0%|          | 0/457 [00:00<?, ?it/s]"
      ]
     },
     "metadata": {},
     "output_type": "display_data"
    }
   ],
   "source": [
    "builder = RoBERTaEmbeddingBuilder(\n",
    "    model,\n",
    "    tokenizer,\n",
    "    summarizer=summarizer,\n",
    "    csv_path=\"parsed.csv\",\n",
    "    embeddings_save_path=\"embeddings.npy\",\n",
    "    kdtree_save_path=\"kdtree.joblib\",\n",
    "    batch_size=1,\n",
    "    device=\"cuda\"\n",
    ")"
   ]
  },
  {
   "cell_type": "markdown",
   "id": "44189489-3818-42cb-8eca-5e474ec376b6",
   "metadata": {},
   "source": [
    "# Indexer"
   ]
  },
  {
   "cell_type": "code",
   "execution_count": 36,
   "id": "c99f12df-400c-4a42-a24c-90ff8d31185a",
   "metadata": {},
   "outputs": [],
   "source": [
    "class RoBERTaIndexer:\n",
    "    def __init__(self, \n",
    "                 model: AutoModel, \n",
    "                 tokenizer: AutoTokenizer, \n",
    "                 k: int, \n",
    "                 csv_path: str, \n",
    "                 kdtree_load_path: str,\n",
    "                 device: str = \"cuda\"):\n",
    "        super().__init__()\n",
    "        self.device = device\n",
    "\n",
    "        self.model = model\n",
    "        self.model.eval()\n",
    "        self.model.to(self.device)\n",
    "        self.tokenizer = tokenizer\n",
    "\n",
    "        self.df = pd.read_csv(csv_path)\n",
    "\n",
    "        self.k = k\n",
    "\n",
    "        self.kdtree = self._load_indexer(kdtree_load_path)\n",
    "        \n",
    "\n",
    "    def _load_indexer(self, path):\n",
    "        kdtree = load(path)\n",
    "        return kdtree\n",
    "    \n",
    "    def _preprocess_text(self, text):\n",
    "        out = self.tokenizer.encode_plus(text, max_length=512, truncation=True, padding=\"max_length\", return_tensors=\"pt\")\n",
    "        return out\n",
    "\n",
    "    def _get_embedding(self, sample):\n",
    "        input_ids = sample[\"input_ids\"]\n",
    "        if len(input_ids.shape) < 2:\n",
    "            input_ids.unsqueeze(dim=0)\n",
    "\n",
    "        attention_mask = sample[\"attention_mask\"]\n",
    "        if len(attention_mask.shape) < 2:\n",
    "            input_ids.unsqueeze(dim=0)\n",
    "\n",
    "        with torch.no_grad():\n",
    "            return mean_pooling(self.model(input_ids.to(self.device), attention_mask.to(self.device)), attention_mask.to(self.device)).cpu().numpy()\n",
    "\n",
    "    def search(self, text):\n",
    "        sample = self._preprocess_text(text)\n",
    "        embedding = self._get_embedding(sample)\n",
    "\n",
    "        ind = self.kdtree.kneighbors(embedding, n_neighbors=5, return_distance=False)[0]\n",
    "        return self.df[\"short_text\"].iloc[ind]"
   ]
  },
  {
   "cell_type": "code",
   "execution_count": 37,
   "id": "ba606144-114f-445b-804d-4f9b33138fde",
   "metadata": {},
   "outputs": [],
   "source": [
    "indexer = RoBERTaIndexer(\n",
    "    model, \n",
    "    tokenizer,\n",
    "    k=5,\n",
    "    csv_path=\"parsed.csv\",\n",
    "    kdtree_load_path=\"kdtree.joblib\"\n",
    ")"
   ]
  },
  {
   "cell_type": "code",
   "execution_count": 43,
   "id": "dce1c94c-d551-407f-be7e-43bd475fc7f2",
   "metadata": {},
   "outputs": [
    {
     "data": {
      "text/plain": [
       "array(['В министерстве образования и науки России внесены изменения в Положение об оплате труда директоров муниципальных учреждений, финансируемых из бюджета.',\n",
       "       'Президент России Владимир Путин подписал указ о предоставлении единовременной денежной выплаты учителям, прибывшим на работу в муниципальные общеобразовательные организации, и преподавателей, испытывающих проблемы кадрового обеспечения образовательной деятельности.',\n",
       "       'Мирнинский район Якутии внес изменения в административный регламент при приеме заявлений о зачислении в общеобразовательные организации муниципального образования.',\n",
       "       'Администрация Мирнинского района Красноярского края приняла в первом чтении Положение о порядке предоставления дополнительных выплат педагогическим работникам филиала ГАПСУ «Якутский медицинский колледж».',\n",
       "       'Администрация Мирнинского района Москвы приняла в первом чтении изменения в Постановление о расходовании средств целевого финансирования для работников образовательных организаций и учреждений, расположенных в районе.'],\n",
       "      dtype=object)"
      ]
     },
     "execution_count": 43,
     "metadata": {},
     "output_type": "execute_result"
    }
   ],
   "source": [
    "indexer.search(\"стипендии\").values"
   ]
  },
  {
   "cell_type": "code",
   "execution_count": null,
   "id": "3c9e90a8-8de0-4b80-a3ee-f64b962da5f8",
   "metadata": {},
   "outputs": [],
   "source": []
  }
 ],
 "metadata": {
  "kernelspec": {
   "display_name": "Python 3 (ipykernel)",
   "language": "python",
   "name": "python3"
  },
  "language_info": {
   "codemirror_mode": {
    "name": "ipython",
    "version": 3
   },
   "file_extension": ".py",
   "mimetype": "text/x-python",
   "name": "python",
   "nbconvert_exporter": "python",
   "pygments_lexer": "ipython3",
   "version": "3.10.12"
  }
 },
 "nbformat": 4,
 "nbformat_minor": 5
}
